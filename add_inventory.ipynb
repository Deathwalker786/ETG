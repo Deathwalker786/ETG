{
 "cells": [
  {
   "cell_type": "code",
   "execution_count": null,
   "metadata": {},
   "outputs": [],
   "source": [
    "#NOTE THIS FILE HAS NOT BEEN TESTED PROPERLY AFTER FEW UPDATION \n",
    "#DUE TO DEVICE ISSUES AND TIME LIMIT PLEASE TEST AT YOUR OWN RISK\n",
    "import json\n",
    "import time"
   ]
  },
  {
   "cell_type": "code",
   "execution_count": null,
   "metadata": {},
   "outputs": [],
   "source": [
    "with open('record.json','r') as f:\n",
    "    data=f.read()\n",
    "record=json.loads(data)\n",
    "print(type(record))"
   ]
  },
  {
   "cell_type": "code",
   "execution_count": null,
   "metadata": {},
   "outputs": [],
   "source": [
    "def addition(add_category,add_product,add_name):\n",
    "    record[add_category]= {}\n",
    "    record[add_category][add_product]={}\n",
    "    record[add_category][add_product][add_name]={'PRODUCT_ID':input('Please Enter the product ID: '),\n",
    "                                                 'TYPE':input(\"Please Enter the type of the product(material): \"),\n",
    "                                                 'PRICE($)':int(input('Please Enter the price of the product: ')),\n",
    "                                                 'COMPANY':input(\"Please Enter the name of the company: \")\n",
    "                                                 }\n",
    "    sizes=int(input('How many different sizes of this product available?: '))\n",
    "    for i in range(sizes):\n",
    "        size=input(\"Enter a size of this {}: \".format(add_name))\n",
    "        quantity=input(\"Enter the quantity of {} size of {}: \".format(size,add_name))\n",
    "        record[add_category][add_product][add_name]['SIZE : QUANTITY'] = quantity\n",
    "    return([add_category,add_product,add_name,record[add_category][add_product][add_name]])\n"
   ]
  },
  {
   "cell_type": "code",
   "execution_count": null,
   "metadata": {},
   "outputs": [],
   "source": [
    "print('These are the current categories: ',record.keys())\n",
    "while(True):\n",
    "    add_category=input('Enter the category name ').upper()\n",
    "    if (add_category in record.keys()):\n",
    "        print('These are the current categories: ',record[add_category].keys())\n",
    "        add_product=input('Enter the type of product ').upper()\n",
    "        if(add_product in record[add_category].keys()):\n",
    "            print('These are the current categories: ',record[add_category][add_product].keys())\n",
    "            add_name=input('Enter the name of the product').upper()\n",
    "            if(add_name in record[add_category][add_product].keys()):\n",
    "                print('These are the current categories: ',record[add_category][add_product][add_name].keys())\n",
    "                update_q=input(\"Product already exists would you like to update the quantity?\")\n",
    "                if(update_q == 'yes'):\n",
    "                    updated_size=input('Please enter the size of the product you would like to update the quantity of')\n",
    "                    updated_quantity=int(input('Please enter how many extra quantities you have got '))\n",
    "                    old_quantity=record[add_category][add_product][add_name]['SIZE : QUANTITY'][updated_size]\n",
    "                    record[add_category][add_product][add_name]['SIZE : QUANTITY'][updated_size] += updated_quantity\n",
    "                    new_quantity=record[add_category][add_product][add_name]['SIZE : QUANTITY'][updated_size]\n",
    "                    print('Your quantity for {} size of {} product has been updated from {} to {}'.format(updated_size,add_name,old_quantity,new_quantity))\n",
    "                update_p=input(\"Product already exists would you like to update the price?\")\n",
    "                if(update_p == 'yes'):\n",
    "                    old_price=record[add_category][add_product][add_name]['PRICE($)']\n",
    "                    print('The current price of the product is: {}'.format(old_price)) \n",
    "                    updated_price=int(input('Please Enter the new price'))\n",
    "                    record[add_category][add_product][add_name]['PRICE($)'] = updated_price\n",
    "                    print('Your price for {} product has been updated from {} to {}'.format(add_name,old_price,new_price))\n",
    "            else:\n",
    "                added=addition(add_category,add_product,add_name)\n",
    "        else:\n",
    "            add_name=input('Please enter the name of the product')\n",
    "            added=addition(add_category,add_product,add_name)\n",
    "    else:\n",
    "        add_product=input('Please enter the type of the product')\n",
    "        add_name=input('Please enter the name of the product')\n",
    "        added=addition(add_category,add_product,add_name)\n",
    "    print('These are the details you entered',added)\n",
    "    again=input(\"Do you want to add anything else to the inventory?: \").upper()\n",
    "    if ('NO' in again):\n",
    "        break\n",
    "    else:\n",
    "        continue"
   ]
  },
  {
   "cell_type": "code",
   "execution_count": null,
   "metadata": {},
   "outputs": [],
   "source": [
    "data=json.dumps(record)\n",
    "with open('record.json','w') as f:\n",
    "    f.write(data)\n",
    "print(type(data))"
   ]
  },
  {
   "cell_type": "code",
   "execution_count": null,
   "metadata": {},
   "outputs": [],
   "source": []
  }
 ],
 "metadata": {
  "kernelspec": {
   "display_name": "Python 3",
   "language": "python",
   "name": "python3"
  },
  "language_info": {
   "codemirror_mode": {
    "name": "ipython",
    "version": 3
   },
   "file_extension": ".py",
   "mimetype": "text/x-python",
   "name": "python",
   "nbconvert_exporter": "python",
   "pygments_lexer": "ipython3",
   "version": "3.7.6"
  }
 },
 "nbformat": 4,
 "nbformat_minor": 4
}
