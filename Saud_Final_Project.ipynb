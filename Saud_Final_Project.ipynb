{
 "cells": [
  {
   "cell_type": "code",
   "execution_count": 1,
   "metadata": {},
   "outputs": [],
   "source": [
    "import time\n",
    "import json"
   ]
  },
  {
   "cell_type": "code",
   "execution_count": 2,
   "metadata": {},
   "outputs": [],
   "source": [
    "trans_ID=0\n",
    "history={}"
   ]
  },
  {
   "cell_type": "markdown",
   "metadata": {},
   "source": [
    "# CODE ABOVE THIS IS ONLY TO BE EXECUTED ONCE\n",
    "## For every new customer the next 3 code sections are to be executed one by one\n",
    "### AUTHOR-SAUD MOHAMMAD (DW SHOPPING)"
   ]
  },
  {
   "cell_type": "code",
   "execution_count": 3,
   "metadata": {},
   "outputs": [
    {
     "data": {
      "text/plain": [
       "\"with open('inventory_management.txt','r') as f:\\n    data=f.read()\\nrecord=eval(data)\""
      ]
     },
     "execution_count": 3,
     "metadata": {},
     "output_type": "execute_result"
    }
   ],
   "source": [
    "with open('record.json','r') as f:\n",
    "    data=f.read()\n",
    "record=json.loads(data)\n",
    "#Below is a substitue code that can be used as well\n",
    "\"\"\"with open('inventory_management.txt','r') as f:\n",
    "    data=f.read()\n",
    "record=eval(data)\"\"\""
   ]
  },
  {
   "cell_type": "code",
   "execution_count": 7,
   "metadata": {
    "scrolled": true
   },
   "outputs": [
    {
     "name": "stdout",
     "output_type": "stream",
     "text": [
      "Please Enter your name to start shopping on our website!harmanpreet\n",
      "WELCOME to DW SHOPPING harmanpreet, the worlds biggest ONLINE SHOPPING PLATFORM\n",
      "\n",
      "We only have one rule that is please use same spelling as shown.\n",
      "\n",
      "We have many different categories of products to choose from that are listed below\n",
      "\n",
      "dict_keys(['CLOTHES', 'FOOTWEAR', 'HOME_APPLIANCES', 'ELECTRONICS', 'ACCESSORIES'])\n",
      "\n",
      "Please choose which category would you like to browse?: electronics\n",
      "dict_keys(['LAPTOP', 'MOBILE', 'EARPHONES', 'CAMERA', 'STORAGE_DEVICES'])\n",
      "\n",
      "ELECTRONICS it is! so what type of ELECTRONICS are you looking for?:(Enter any one from above list) camera\n",
      "dict_keys(['DSLR', 'MIRRORLESS', 'BRIDGE', 'COMPACT', 'FILM'])\n",
      "\n",
      "Please Enter any CAMERA name you would like to browse from options given abovecompact\n",
      "{\n",
      "    \"PRODUCT_ID\": \"ST0002\",\n",
      "    \"TYPE\": \"COTTON+SILK\",\n",
      "    \"PRICE($)\": 170,\n",
      "    \"SIZE : QUANTITY\": {\n",
      "        \"XS\": 5,\n",
      "        \"S\": 10,\n",
      "        \"M\": 17,\n",
      "        \"L\": 15,\n",
      "        \"XL\": 5,\n",
      "        \"XXL\": 2\n",
      "    },\n",
      "    \"COMPANY\": \"ARMANI\"\n",
      "}\n",
      "\n",
      " I am a huge fan of COMPACT too! The details of the CAMERA are mentioned above:\n",
      "\n",
      "What size are you looking for?: M\n",
      "So how many quantities of 'M' size COMPACT would you like to buy?: 1\n",
      "\n",
      "We are Glad that you liked it! \n",
      "{'COMPACT CAMERA': {'CATEGORY': 'ELECTRONICS', 'PRODUCT_ID': 'ST0002', 'TYPE': 'COTTON+SILK', 'SIZE': 'M', 'QUANTITY': 1, 'PRICE': 170, 'COMPANY': 'ARMANI'}}\n",
      "\n",
      "Would you like to check some more products? no\n",
      "Which mode of payment would you like to use? cash\n",
      "Here's Your Bill: \n",
      "\n",
      "{\n",
      "    \"product_choice 1\": {\n",
      "        \"COMPACT CAMERA\": {\n",
      "            \"CATEGORY\": \"ELECTRONICS\",\n",
      "            \"PRODUCT_ID\": \"ST0002\",\n",
      "            \"TYPE\": \"COTTON+SILK\",\n",
      "            \"SIZE\": \"M\",\n",
      "            \"QUANTITY\": 1,\n",
      "            \"PRICE\": 170,\n",
      "            \"COMPANY\": \"ARMANI\"\n",
      "        }\n",
      "    },\n",
      "    \"TOTAL_PRICE\": 170,\n",
      "    \"TIME_OF_TRANSACTION\": \"Mon Sep  6 22:16:42 2021\",\n",
      "    \"TRANSACTION_ID\": \"TSD-02\",\n",
      "    \"Mode_of_payment\": \"Cash\"\n",
      "}\n",
      "Thank you for shopping with us! We hope to see you again <3\n"
     ]
    }
   ],
   "source": [
    "name=input('Please Enter your name to start shopping on our website!')\n",
    "print(\"WELCOME to DW SHOPPING {}, the worlds biggest ONLINE SHOPPING PLATFORM\\n\".format(name))\n",
    "print('We only have one rule that is please use same spelling as shown.\\n')\n",
    "cart={}\n",
    "total_price=0\n",
    "total_items=0\n",
    "bill={}\n",
    "number_of_products=0\n",
    "\"\"\"\n",
    "#Product_lst=[]\n",
    "#Type_lst=[]\n",
    "#Size_lst=[]\n",
    "#Quantity_lst=[]\n",
    "#price_lst=[]\n",
    "#company_lst=[]\n",
    "#color_lst=[]\n",
    "was about to use list to keep records of the cart \"\"\"\n",
    "while(True):\n",
    "    print('We have many different categories of products to choose from that are listed below\\n')\n",
    "    print(record.keys())\n",
    "    choice_category=input('\\nPlease choose which category would you like to browse?: ').upper()\n",
    "    if(choice_category in record.keys()):\n",
    "        print(record[choice_category].keys())\n",
    "        choice_product=input('\\n{} it is! so what type of {} are you looking for?:(Enter any one from above list) '.format(choice_category,choice_category)).upper()\n",
    "        if (choice_product in record[choice_category].keys()):\n",
    "            print(record[choice_category][choice_product].keys())\n",
    "            browse=input('\\nPlease Enter any {} name you would like to browse from options given above'.format(choice_product)).upper()\n",
    "            if(browse in record[choice_category][choice_product].keys()):\n",
    "                print(json.dumps(record[choice_category][choice_product][browse],indent=4))\n",
    "                print('\\n I am a huge fan of {} too! The details of the {} are mentioned above:\\n'.format(browse,choice_product))\n",
    "                size=input('What size are you looking for?: ').upper()\n",
    "                if(size=='NO'):\n",
    "                    out=input(\"would you like to generate your bill?\")\n",
    "                    if('ye' in out):\n",
    "                        break\n",
    "                    else:\n",
    "                        continue\n",
    "                elif(size not in record[choice_category][choice_product][browse]['SIZE : QUANTITY'].keys()):\n",
    "                    size=input('sorry we dont have {} size do you wanna order another size?'.format(size)).upper()\n",
    "#               color=input('What color {} size are you looking for?: '.format(size)).upper()\n",
    "                buy=int(input(\"So how many quantities of '{}' size {} would you like to buy?: \".format(size,browse)))\n",
    "                if buy == 0:\n",
    "                    print('\\nWe are sorry that our product is not upto your requirements')\n",
    "                elif buy < 0:\n",
    "                    print('\\nSorry but it seems you have entered wrong quantity please check again')\n",
    "                elif buy <= record[choice_category][choice_product][browse]['SIZE : QUANTITY'][size] and buy >0:\n",
    "                    print('\\nWe are Glad that you liked it! ')\n",
    "                    number_of_products += 1\n",
    "                    selling_price=record[choice_category][choice_product][browse]['PRICE($)']\n",
    "                    record[choice_category][choice_product][browse]['SIZE : QUANTITY'][size] -= buy\n",
    "                    total_price += (selling_price*buy)\n",
    "                    total_items += buy\n",
    "                    cart[browse + ' ' + choice_product]={'CATEGORY':choice_category,\n",
    "                                  #'TYPE':browse,\n",
    "                                  'PRODUCT_ID':record[choice_category][choice_product][browse]['PRODUCT_ID'],\n",
    "                                  'TYPE':record[choice_category][choice_product][browse]['TYPE'],\n",
    "                                  'SIZE':size,\n",
    "                                  'QUANTITY':buy,\n",
    "                                  'PRICE':record[choice_category][choice_product][browse]['PRICE($)'],\n",
    "                                  'COMPANY':record[choice_category][choice_product][browse]['COMPANY']\n",
    "                                 }\n",
    "                    bill['product_choice '+ str(number_of_products)]=cart\n",
    "                    print(cart)\n",
    "                    cart={}\n",
    "                else:\n",
    "                    print('\\nSorry but we dont have that many quantities available right now')\n",
    "            else:\n",
    "                print('Please check the input value again')\n",
    "                continue\n",
    "        else:\n",
    "            print('Please check the input value again')\n",
    "            continue\n",
    "    else:\n",
    "        print('Please check the input value again')\n",
    "        continue\n",
    "    more=input('\\nWould you like to check some more products? ').lower()\n",
    "    if ('no' in more):\n",
    "        pay=input(\"Which mode of payment would you like to use? \").capitalize()\n",
    "        print(\"Here's Your Bill: \\n\")\n",
    "        trans_ID += 1\n",
    "        bill['TOTAL_PRICE'] = total_price\n",
    "        bill['TIME_OF_TRANSACTION']=time.ctime()\n",
    "        bill['TRANSACTION_ID'] = 'TSD-0' + str(trans_ID)\n",
    "        bill['Mode_of_payment']=pay\n",
    "        print(json.dumps(bill,indent=4))\n",
    "        history[str(trans_ID) + ':' + name]=bill\n",
    "        print('Thank you for shopping with us! We hope to see you again <3')\n",
    "        break\n",
    "        "
   ]
  },
  {
   "cell_type": "code",
   "execution_count": 8,
   "metadata": {},
   "outputs": [],
   "source": [
    "\"\"\"\n",
    "sales=str(history)\n",
    "inventory=str(record)\n",
    "\"\"\"\n",
    "sales=json.dumps(history)\n",
    "inventory=json.dumps(record)\n",
    "\n",
    "with open('record.json','w') as f:\n",
    "    f.write(inventory)\n",
    "with open('sales.json','w') as f:\n",
    "    f.write(sales)\n",
    "#This Section of code is to save the changes in the inventory and also create a record of the sales done till now\n",
    "#if .txt file was used you would only need to replace the name of the file to .txt one "
   ]
  },
  {
   "cell_type": "code",
   "execution_count": 9,
   "metadata": {},
   "outputs": [
    {
     "data": {
      "text/plain": [
       "\"\\nwith open('sales.json','w') as f:\\n    f.write(sales)\\n'I can also use append here in the above code but for that i will have to reset the history to an empty dictionary again\\nbasically use history={} in the 4th code space with other initialization instead of in 2nd code space'\\nbut I was scared I might end up doing something wrong and messing up my project all over again but I am sure\\nif my theory knowledge is correct then this should work as well.\\n\""
      ]
     },
     "execution_count": 9,
     "metadata": {},
     "output_type": "execute_result"
    }
   ],
   "source": [
    "\"\"\"\n",
    "with open('sales.json','w') as f:\n",
    "    f.write(sales)\n",
    "'I can also use append here in the above code but for that i will have to reset the history to an empty dictionary again\n",
    "basically use history={} in the 4th code space with other initialization instead of in 2nd code space'\n",
    "but I was scared I might end up doing something wrong and messing up my project all over again but I am sure\n",
    "if my theory knowledge is correct then this should work as well.\n",
    "\"\"\""
   ]
  },
  {
   "cell_type": "code",
   "execution_count": null,
   "metadata": {},
   "outputs": [],
   "source": []
  }
 ],
 "metadata": {
  "kernelspec": {
   "display_name": "Python 3",
   "language": "python",
   "name": "python3"
  },
  "language_info": {
   "codemirror_mode": {
    "name": "ipython",
    "version": 3
   },
   "file_extension": ".py",
   "mimetype": "text/x-python",
   "name": "python",
   "nbconvert_exporter": "python",
   "pygments_lexer": "ipython3",
   "version": "3.7.6"
  }
 },
 "nbformat": 4,
 "nbformat_minor": 4
}
