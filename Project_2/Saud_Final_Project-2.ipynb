{
 "cells": [
  {
   "cell_type": "code",
   "execution_count": 1,
   "metadata": {},
   "outputs": [],
   "source": [
    "import numpy as np\n",
    "import pandas as pd\n",
    "import seaborn as sb\n",
    "import matplotlib.pyplot as plt\n",
    "\n",
    "%matplotlib inline\n",
    "#data=pd.read_csv('summer.csv')\n",
    "#Sports_Medals=pd.concat([data,pd.get_dummies(data['Medal'])],axis=1)"
   ]
  },
  {
   "cell_type": "code",
   "execution_count": 2,
   "metadata": {},
   "outputs": [],
   "source": [
    "data=pd.read_csv('summer.csv')"
   ]
  },
  {
   "cell_type": "code",
   "execution_count": 3,
   "metadata": {},
   "outputs": [
    {
     "data": {
      "text/html": [
       "<div>\n",
       "<style scoped>\n",
       "    .dataframe tbody tr th:only-of-type {\n",
       "        vertical-align: middle;\n",
       "    }\n",
       "\n",
       "    .dataframe tbody tr th {\n",
       "        vertical-align: top;\n",
       "    }\n",
       "\n",
       "    .dataframe thead th {\n",
       "        text-align: right;\n",
       "    }\n",
       "</style>\n",
       "<table border=\"1\" class=\"dataframe\">\n",
       "  <thead>\n",
       "    <tr style=\"text-align: right;\">\n",
       "      <th></th>\n",
       "      <th>Year</th>\n",
       "      <th>City</th>\n",
       "      <th>Sport</th>\n",
       "      <th>Discipline</th>\n",
       "      <th>Athlete</th>\n",
       "      <th>Country</th>\n",
       "      <th>Gender</th>\n",
       "      <th>Event</th>\n",
       "      <th>Medal</th>\n",
       "    </tr>\n",
       "  </thead>\n",
       "  <tbody>\n",
       "    <tr>\n",
       "      <th>0</th>\n",
       "      <td>1896</td>\n",
       "      <td>Athens</td>\n",
       "      <td>Aquatics</td>\n",
       "      <td>Swimming</td>\n",
       "      <td>HAJOS, Alfred</td>\n",
       "      <td>HUN</td>\n",
       "      <td>Men</td>\n",
       "      <td>100M Freestyle</td>\n",
       "      <td>Gold</td>\n",
       "    </tr>\n",
       "    <tr>\n",
       "      <th>1</th>\n",
       "      <td>1896</td>\n",
       "      <td>Athens</td>\n",
       "      <td>Aquatics</td>\n",
       "      <td>Swimming</td>\n",
       "      <td>HERSCHMANN, Otto</td>\n",
       "      <td>AUT</td>\n",
       "      <td>Men</td>\n",
       "      <td>100M Freestyle</td>\n",
       "      <td>Silver</td>\n",
       "    </tr>\n",
       "    <tr>\n",
       "      <th>2</th>\n",
       "      <td>1896</td>\n",
       "      <td>Athens</td>\n",
       "      <td>Aquatics</td>\n",
       "      <td>Swimming</td>\n",
       "      <td>DRIVAS, Dimitrios</td>\n",
       "      <td>GRE</td>\n",
       "      <td>Men</td>\n",
       "      <td>100M Freestyle For Sailors</td>\n",
       "      <td>Bronze</td>\n",
       "    </tr>\n",
       "    <tr>\n",
       "      <th>3</th>\n",
       "      <td>1896</td>\n",
       "      <td>Athens</td>\n",
       "      <td>Aquatics</td>\n",
       "      <td>Swimming</td>\n",
       "      <td>MALOKINIS, Ioannis</td>\n",
       "      <td>GRE</td>\n",
       "      <td>Men</td>\n",
       "      <td>100M Freestyle For Sailors</td>\n",
       "      <td>Gold</td>\n",
       "    </tr>\n",
       "    <tr>\n",
       "      <th>4</th>\n",
       "      <td>1896</td>\n",
       "      <td>Athens</td>\n",
       "      <td>Aquatics</td>\n",
       "      <td>Swimming</td>\n",
       "      <td>CHASAPIS, Spiridon</td>\n",
       "      <td>GRE</td>\n",
       "      <td>Men</td>\n",
       "      <td>100M Freestyle For Sailors</td>\n",
       "      <td>Silver</td>\n",
       "    </tr>\n",
       "  </tbody>\n",
       "</table>\n",
       "</div>"
      ],
      "text/plain": [
       "   Year    City     Sport Discipline             Athlete Country Gender  \\\n",
       "0  1896  Athens  Aquatics   Swimming       HAJOS, Alfred     HUN    Men   \n",
       "1  1896  Athens  Aquatics   Swimming    HERSCHMANN, Otto     AUT    Men   \n",
       "2  1896  Athens  Aquatics   Swimming   DRIVAS, Dimitrios     GRE    Men   \n",
       "3  1896  Athens  Aquatics   Swimming  MALOKINIS, Ioannis     GRE    Men   \n",
       "4  1896  Athens  Aquatics   Swimming  CHASAPIS, Spiridon     GRE    Men   \n",
       "\n",
       "                        Event   Medal  \n",
       "0              100M Freestyle    Gold  \n",
       "1              100M Freestyle  Silver  \n",
       "2  100M Freestyle For Sailors  Bronze  \n",
       "3  100M Freestyle For Sailors    Gold  \n",
       "4  100M Freestyle For Sailors  Silver  "
      ]
     },
     "execution_count": 3,
     "metadata": {},
     "output_type": "execute_result"
    }
   ],
   "source": [
    "data.head()"
   ]
  },
  {
   "cell_type": "code",
   "execution_count": 4,
   "metadata": {},
   "outputs": [
    {
     "data": {
      "text/plain": [
       "Year          False\n",
       "City          False\n",
       "Sport         False\n",
       "Discipline    False\n",
       "Athlete       False\n",
       "Country        True\n",
       "Gender        False\n",
       "Event         False\n",
       "Medal         False\n",
       "dtype: bool"
      ]
     },
     "execution_count": 4,
     "metadata": {},
     "output_type": "execute_result"
    }
   ],
   "source": [
    "data.isnull().any()"
   ]
  },
  {
   "cell_type": "code",
   "execution_count": 5,
   "metadata": {},
   "outputs": [],
   "source": [
    "Sports_Medals=pd.concat([data,pd.get_dummies(data['Medal'])],axis=1)"
   ]
  },
  {
   "cell_type": "markdown",
   "metadata": {},
   "source": [
    "# Summer Olympics Data Analysis Assignment"
   ]
  },
  {
   "cell_type": "markdown",
   "metadata": {},
   "source": [
    "### 1. In how many cities Summer Olympics is held so far?"
   ]
  },
  {
   "cell_type": "code",
   "execution_count": 6,
   "metadata": {},
   "outputs": [
    {
     "name": "stdout",
     "output_type": "stream",
     "text": [
      "\n",
      "Number of cities in which summer olympics held so far =  22\n",
      "Names of those cities:  ['Athens' 'Paris' 'St Louis' 'London' 'Stockholm' 'Antwerp' 'Amsterdam'\n",
      " 'Los Angeles' 'Berlin' 'Helsinki' 'Melbourne / Stockholm' 'Rome' 'Tokyo'\n",
      " 'Mexico' 'Munich' 'Montreal' 'Moscow' 'Seoul' 'Barcelona' 'Atlanta'\n",
      " 'Sydney' 'Beijing']\n"
     ]
    }
   ],
   "source": [
    "names_of_cities=data['City'].unique()\n",
    "number_of_cities=len(names_of_cities)\n",
    "print('\\nNumber of cities in which summer olympics held so far = ',number_of_cities)\n",
    "print('Names of those cities: ',names_of_cities)"
   ]
  },
  {
   "cell_type": "markdown",
   "metadata": {},
   "source": [
    "### 2. Which sport is having most number of Gold Medals so far? (Top 5)"
   ]
  },
  {
   "cell_type": "code",
   "execution_count": 7,
   "metadata": {},
   "outputs": [
    {
     "name": "stdout",
     "output_type": "stream",
     "text": [
      "Sport having most number of Gold Medals so far:  ['Aquatics', 'Athletics', 'Rowing', 'Gymnastics', 'Fencing']\n"
     ]
    }
   ],
   "source": [
    "Sports_Gold=Sports_Medals.groupby(['Sport']).sum()[['Gold']].sort_values('Gold',ascending=False).reset_index()\n",
    "#Sports_Medals.drop(['Year'],axis=1,inplace=True)\n",
    "#Sports_Gold=Sports_Medals.drop(['Bronze','Silver'],axis=1)\n",
    "Total_Gold_Medals=Sports_Gold['Gold'].sum()\n",
    "Sports_Gold_Top_5=Sports_Gold.head()\n",
    "lst=[]\n",
    "for i in range(Sports_Gold_Top_5.shape[0]):\n",
    "    lst.append(Sports_Gold_Top_5.iloc[i][0])\n",
    "print('Sport having most number of Gold Medals so far: ',lst)"
   ]
  },
  {
   "cell_type": "code",
   "execution_count": 8,
   "metadata": {},
   "outputs": [
    {
     "data": {
      "image/png": "[encoded data removed]",
      "text/plain": [
       "<Figure size 720x504 with 1 Axes>"
      ]
     },
     "metadata": {
      "needs_background": "light"
     },
     "output_type": "display_data"
    }
   ],
   "source": [
    "fig = plt.figure(figsize = (10, 7))\n",
    "plt.bar(Sports_Gold_Top_5['Sport'], Sports_Gold_Top_5['Gold'], color ='Gold',width = 0.4)\n",
    "plt.xlabel('Sports')\n",
    "plt.ylabel('Gold Medals')\n",
    "for i in range (Sports_Gold_Top_5.shape[0]):\n",
    "    count = Sports_Gold_Top_5.iloc[i][1]\n",
    "    percentage = '{:0.1f}'.format(100*count/Total_Gold_Medals)\n",
    "    percentage += '%'\n",
    "    plt.text(i, count, percentage, ha='center', color='black')"
   ]
  },
  {
   "cell_type": "markdown",
   "metadata": {},
   "source": [
    "### 3. Which sport is having most number of medals so far? (Top 5)"
   ]
  },
  {
   "cell_type": "code",
   "execution_count": 9,
   "metadata": {},
   "outputs": [
    {
     "name": "stdout",
     "output_type": "stream",
     "text": [
      "Sport having most number of Medals so far:  ['Aquatics', 'Athletics', 'Rowing', 'Gymnastics', 'Fencing']\n"
     ]
    }
   ],
   "source": [
    "Sports_Total_Medals=Sports_Medals.groupby(['Sport']).sum()[['Gold','Silver','Bronze']].reset_index()\n",
    "Sports_Total_Medals['Total Medals']=Sports_Total_Medals['Gold']+Sports_Total_Medals['Bronze']+Sports_Total_Medals['Silver']\n",
    "Sports_Total_Medals=Sports_Total_Medals.sort_values('Total Medals',ascending=False)\n",
    "Total_Number_Of_Medals=Sports_Total_Medals['Total Medals'].sum()\n",
    "Sports_Medals_Top_5=Sports_Total_Medals.head()\n",
    "lst1=[]\n",
    "for i in range(Sports_Medals_Top_5.shape[0]):\n",
    "    lst1.append(Sports_Medals_Top_5.iloc[i][0])\n",
    "print('Sport having most number of Medals so far: ',lst1)"
   ]
  },
  {
   "cell_type": "code",
   "execution_count": 10,
   "metadata": {},
   "outputs": [
    {
     "data": {
      "image/png": "[encoded data removed]",
      "text/plain": [
       "<Figure size 720x504 with 1 Axes>"
      ]
     },
     "metadata": {
      "needs_background": "light"
     },
     "output_type": "display_data"
    }
   ],
   "source": [
    "fig = plt.figure(figsize = (10, 7))\n",
    "plt.bar(Sports_Medals_Top_5['Sport'], Sports_Medals_Top_5['Total Medals'], color =sb.color_palette()[0],width = 0.4)\n",
    "plt.xlabel('Sports')\n",
    "plt.ylabel('Total Medals')\n",
    "for i in range (Sports_Medals_Top_5.shape[0]):\n",
    "    count = Sports_Medals_Top_5.iloc[i][4]\n",
    "    percentage = '{:0.1f}'.format(100*count/Total_Number_Of_Medals)\n",
    "    percentage += '%'\n",
    "    plt.text(i, count, percentage, ha='center', color='black')"
   ]
  },
  {
   "cell_type": "markdown",
   "metadata": {},
   "source": [
    "### 4. Which player has won most number of medals? (Top 5)"
   ]
  },
  {
   "cell_type": "code",
   "execution_count": 11,
   "metadata": {},
   "outputs": [
    {
     "name": "stdout",
     "output_type": "stream",
     "text": [
      "Athletes having most number of Medals so far:  ['PHELPS, Michael', 'LATYNINA, Larisa', 'ANDRIANOV, Nikolay', 'MANGIAROTTI, Edoardo', 'ONO, Takashi']\n"
     ]
    }
   ],
   "source": [
    "Player_Medal=Sports_Medals.groupby(['Athlete']).sum()[['Gold','Silver','Bronze']].reset_index()\n",
    "Player_Medal['Total Medal']=Player_Medal['Gold']+Player_Medal['Bronze']+Player_Medal['Silver']\n",
    "Player_Medal=Player_Medal.sort_values('Total Medal',ascending=False)\n",
    "Player_Medal_Top_5=Player_Medal.iloc[0:5]\n",
    "lst2=[]\n",
    "for i in range(Player_Medal_Top_5.shape[0]):\n",
    "    lst2.append(Player_Medal_Top_5.iloc[i][0])\n",
    "print('Athletes having most number of Medals so far: ',lst2)"
   ]
  },
  {
   "cell_type": "code",
   "execution_count": 12,
   "metadata": {},
   "outputs": [
    {
     "data": {
      "text/plain": [
       "([0, 1, 2, 3, 4],\n",
       " [Text(0, 0, ''),\n",
       "  Text(0, 0, ''),\n",
       "  Text(0, 0, ''),\n",
       "  Text(0, 0, ''),\n",
       "  Text(0, 0, '')])"
      ]
     },
     "execution_count": 12,
     "metadata": {},
     "output_type": "execute_result"
    },
    {
     "data": {
      "image/png": "[encoded data removed]",
      "text/plain": [
       "<Figure size 720x504 with 1 Axes>"
      ]
     },
     "metadata": {
      "needs_background": "light"
     },
     "output_type": "display_data"
    }
   ],
   "source": [
    "fig = plt.figure(figsize = (10, 7))\n",
    "plt.bar(Player_Medal_Top_5['Athlete'], Player_Medal_Top_5['Total Medal'], color ='Blue',width = 0.5)\n",
    "plt.xlabel('Athletes')\n",
    "plt.ylabel('Total Medals')\n",
    "for i in range (Player_Medal_Top_5.shape[0]):\n",
    "    count = Player_Medal_Top_5.iloc[i][4]\n",
    "    number = '{:0.1f}'.format(count)\n",
    "    plt.text(i, count, number, ha='center', color='Black')\n",
    "plt.xticks(rotation=30)\n"
   ]
  },
  {
   "cell_type": "markdown",
   "metadata": {},
   "source": [
    "### 5. Which player has won most number Gold Medals of medals? (Top 5)"
   ]
  },
  {
   "cell_type": "code",
   "execution_count": 13,
   "metadata": {},
   "outputs": [
    {
     "name": "stdout",
     "output_type": "stream",
     "text": [
      "Athletes having most number of Gold Medals so far:  ['PHELPS, Michael', 'NURMI, Paavo', 'LATYNINA, Larisa', 'SPITZ, Mark', 'LEWIS, Carl']\n"
     ]
    }
   ],
   "source": [
    "Player_Gold=Sports_Medals.groupby(['Athlete']).sum()[['Gold']].sort_values('Gold',ascending=False).reset_index()\n",
    "Player_Gold_Top_5=Player_Gold.iloc[0:5]\n",
    "Player_Gold_Top_5\n",
    "lst3=[]\n",
    "for i in range(Player_Gold_Top_5.shape[0]):\n",
    "    lst3.append(Player_Gold_Top_5.iloc[i][0])\n",
    "print('Athletes having most number of Gold Medals so far: ',lst3)"
   ]
  },
  {
   "cell_type": "code",
   "execution_count": 14,
   "metadata": {},
   "outputs": [
    {
     "data": {
      "image/png": "[encoded data removed]",
      "text/plain": [
       "<Figure size 720x504 with 1 Axes>"
      ]
     },
     "metadata": {
      "needs_background": "light"
     },
     "output_type": "display_data"
    }
   ],
   "source": [
    "fig = plt.figure(figsize = (10, 7))\n",
    "plt.bar(Player_Gold_Top_5['Athlete'], Player_Gold_Top_5['Gold'], color ='Gold',width = 0.5)\n",
    "plt.xlabel('Players')\n",
    "plt.ylabel('Gold Medals')\n",
    "for i in range (Player_Gold_Top_5.shape[0]):\n",
    "    count = Player_Gold_Top_5.iloc[i][1]\n",
    "    number = '{:0.1f}'.format(count)\n",
    "    plt.text(i, count+0.2, number, ha='center', color='black')"
   ]
  },
  {
   "cell_type": "markdown",
   "metadata": {},
   "source": [
    "### 6. In which year India won first Gold Medal in Summer Olympics?"
   ]
  },
  {
   "cell_type": "code",
   "execution_count": 15,
   "metadata": {},
   "outputs": [
    {
     "name": "stdout",
     "output_type": "stream",
     "text": [
      "India won its first Gold Medal in Summer Olympics in year :  1928\n"
     ]
    }
   ],
   "source": [
    "First_Gold=Sports_Medals.query('Country == \"IND\"')\n",
    "First_Gold=First_Gold.query('Gold == 1')\n",
    "First_Gold.sort_values('Year')\n",
    "First_Gold_Year=First_Gold.iloc[0]\n",
    "#First_Gold_Year=First_Gold['Year'].iloc[0]\n",
    "print('India won its first Gold Medal in Summer Olympics in year : ',First_Gold_Year['Year'])"
   ]
  },
  {
   "cell_type": "markdown",
   "metadata": {},
   "source": [
    "### 7. Which sport is having most female Gold Medalists? (Top 5)"
   ]
  },
  {
   "cell_type": "code",
   "execution_count": 18,
   "metadata": {},
   "outputs": [
    {
     "name": "stdout",
     "output_type": "stream",
     "text": [
      "Sports having most number of Female Athletes Gold Medalists so far:  ['Aquatics', 'Athletics', 'Gymnastics', 'Rowing', 'Volleyball']\n"
     ]
    }
   ],
   "source": [
    "#Substitute Way to filter the data \n",
    "Gold_Medals=data[data['Medal'] == 'Gold']\n",
    "Female_Gold = Gold_Medals[Gold_Medals['Gender']=='Women']\n",
    "Total_Female_Gold=len(Female_Gold['Medal'])\n",
    "temp=[]\n",
    "for i in Female_Gold['Sport'].unique():\n",
    "    size=len(Female_Gold[Female_Gold['Sport']==i])\n",
    "    temp.append([i,size])\n",
    "#Get the Filtered data in form of a list converting list to dataframe now\n",
    "Female_Gold= pd.DataFrame(temp, columns=['Sport', 'Gold']).sort_values('Gold', ascending=False)\n",
    "Female_Gold_Top_5=Female_Gold.head()\n",
    "print('Sports having most number of Female Athletes Gold Medalists so far: ',list(Female_Gold_Top_5['Sport']))"
   ]
  },
  {
   "cell_type": "code",
   "execution_count": 19,
   "metadata": {},
   "outputs": [
    {
     "data": {
      "image/png": "[encoded data removed]",
      "text/plain": [
       "<Figure size 720x504 with 1 Axes>"
      ]
     },
     "metadata": {
      "needs_background": "light"
     },
     "output_type": "display_data"
    }
   ],
   "source": [
    "fig = plt.figure(figsize = (10, 7))\n",
    "plt.bar(Female_Gold_Top_5['Sport'], Female_Gold_Top_5['Gold'], color ='Gold',width = 0.5)\n",
    "plt.xlabel('Sport')\n",
    "plt.ylabel('Gold Medals')\n",
    "for i in range (Female_Gold_Top_5.shape[0]):\n",
    "    count = Female_Gold_Top_5.iloc[i][1]\n",
    "    percentage = '{:0.1f}'.format(100*count/Total_Female_Gold)\n",
    "    percentage += '%'\n",
    "    plt.text(i, count+0.2, percentage, ha='center', color='black')"
   ]
  },
  {
   "cell_type": "markdown",
   "metadata": {},
   "source": [
    "### 8. Which event is most popular in terms on number of players? (Top 5)"
   ]
  },
  {
   "cell_type": "code",
   "execution_count": 16,
   "metadata": {},
   "outputs": [
    {
     "name": "stdout",
     "output_type": "stream",
     "text": [
      "Most Popular Events in Summer Olympics:  ['Football', 'Hockey', 'Team Competition', 'Basketball', 'Handball']\n"
     ]
    }
   ],
   "source": [
    "Popular_Event=Sports_Medals.value_counts('Event')\n",
    "Popularity=Popular_Event.sum()\n",
    "Popular_Event_Top_5=Popular_Event.iloc[0:5]\n",
    "print('Most Popular Events in Summer Olympics: ',list(Popular_Event_Top_5.index))\n",
    "#Can be printed searately in different line as well using for loop"
   ]
  },
  {
   "cell_type": "code",
   "execution_count": 17,
   "metadata": {},
   "outputs": [
    {
     "data": {
      "text/plain": [
       "(array([0, 1, 2, 3, 4]),\n",
       " [Text(0, 0, 'Football'),\n",
       "  Text(1, 0, 'Hockey'),\n",
       "  Text(2, 0, 'Team Competition'),\n",
       "  Text(3, 0, 'Basketball'),\n",
       "  Text(4, 0, 'Handball')])"
      ]
     },
     "execution_count": 17,
     "metadata": {},
     "output_type": "execute_result"
    },
    {
     "data": {
      "image/png": "[encoded data removed]",
      "text/plain": [
       "<Figure size 720x504 with 1 Axes>"
      ]
     },
     "metadata": {
      "needs_background": "light"
     },
     "output_type": "display_data"
    }
   ],
   "source": [
    "fig = plt.figure(figsize = (10, 7))\n",
    "Popular_Event_Top_5.plot(kind='bar')\n",
    "plt.xlabel('Event')\n",
    "plt.ylabel('Popularity')\n",
    "for i in range (Popular_Event_Top_5.shape[0]):\n",
    "    count = Popular_Event_Top_5[i]\n",
    "    popular = '{:0.1f}'.format(100*(count/Popularity))\n",
    "    popular += '%'\n",
    "    plt.text(i, count+10, popular, ha='center', color='black')\n",
    "plt.xticks(rotation=45)"
   ]
  }
 ],
 "metadata": {
  "kernelspec": {
   "display_name": "Python 3 (ipykernel)",
   "language": "python",
   "name": "python3"
  },
  "language_info": {
   "codemirror_mode": {
    "name": "ipython",
    "version": 3
   },
   "file_extension": ".py",
   "mimetype": "text/x-python",
   "name": "python",
   "nbconvert_exporter": "python",
   "pygments_lexer": "ipython3",
   "version": "3.8.11"
  }
 },
 "nbformat": 4,
 "nbformat_minor": 4
}
